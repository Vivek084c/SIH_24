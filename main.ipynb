{
 "cells": [
  {
   "cell_type": "code",
   "execution_count": 1,
   "metadata": {},
   "outputs": [
    {
     "name": "stderr",
     "output_type": "stream",
     "text": [
      "Ignoring wrong pointing object 6 0 (offset 0)\n",
      "Ignoring wrong pointing object 8 0 (offset 0)\n"
     ]
    }
   ],
   "source": [
    "from langchain.document_loaders import PyPDFLoader\n",
    "loader=PyPDFLoader(r\"data.pdf\")\n",
    "\n",
    "pages=loader.load_and_split()\n",
    "\n",
    "ref = pages[0].page_content"
   ]
  },
  {
   "cell_type": "code",
   "execution_count": 2,
   "metadata": {},
   "outputs": [
    {
     "data": {
      "text/plain": [
       "'To create a new user proﬁle follow the bellow steps: 1) Click on sing up button 2) Enter your details  3) Click on submit 4) Check your email to receive the otp 5) Enter the otp 6) Your sing up is done  To login to your account 1) Go to home page 2) Check the login button on top right corner 3) Click on it, you will be redirected to new site 4) Enter details and you will be loged in'"
      ]
     },
     "execution_count": 2,
     "metadata": {},
     "output_type": "execute_result"
    }
   ],
   "source": [
    "ref"
   ]
  },
  {
   "cell_type": "code",
   "execution_count": 3,
   "metadata": {},
   "outputs": [
    {
     "name": "stdout",
     "output_type": "stream",
     "text": [
      "2024-09-08 15:45:21 - Loaded .env file\n"
     ]
    }
   ],
   "source": [
    "import os \n",
    "import langchain\n",
    "import chainlit as cl\n",
    "from langchain import HuggingFaceHub, PromptTemplate, LLMChain\n",
    "from getpass import getpass\n",
    "from dotenv import load_dotenv"
   ]
  },
  {
   "cell_type": "code",
   "execution_count": 4,
   "metadata": {},
   "outputs": [],
   "source": [
    "load_dotenv()\n",
    "HUGGING_FACE_API_TOKEN = os.getenv(\"HUGGINGFACEHUB_API_TOKEN\")\n",
    "\n"
   ]
  },
  {
   "cell_type": "code",
   "execution_count": 5,
   "metadata": {},
   "outputs": [
    {
     "name": "stderr",
     "output_type": "stream",
     "text": [
      "/var/folders/xb/sshzwv1128l88chp71np05t40000gn/T/ipykernel_32795/1322542629.py:2: LangChainDeprecationWarning: The class `HuggingFaceHub` was deprecated in LangChain 0.0.21 and will be removed in 1.0. An updated version of the class exists in the langchain-huggingface package and should be used instead. To use it run `pip install -U langchain-huggingface` and import as `from langchain_huggingface import HuggingFaceEndpoint`.\n",
      "  conversation_model = HuggingFaceHub(huggingfacehub_api_token =HUGGING_FACE_API_TOKEN, repo_id = modelid, model_kwargs={\"temperature\":0.2, \"max_new_tokens\":200})\n",
      "/opt/miniconda3/envs/vivek/lib/python3.11/site-packages/tqdm/auto.py:21: TqdmWarning: IProgress not found. Please update jupyter and ipywidgets. See https://ipywidgets.readthedocs.io/en/stable/user_install.html\n",
      "  from .autonotebook import tqdm as notebook_tqdm\n"
     ]
    }
   ],
   "source": [
    "modelid =\"google/gemma-7b\"\n",
    "conversation_model = HuggingFaceHub(huggingfacehub_api_token =HUGGING_FACE_API_TOKEN, repo_id = modelid, model_kwargs={\"temperature\":0.2, \"max_new_tokens\":200})"
   ]
  },
  {
   "cell_type": "code",
   "execution_count": 10,
   "metadata": {},
   "outputs": [],
   "source": [
    "template =\"\"\" \n",
    "TAKE THE FOLLOWING TEXT AS INPUT : To create a new user proﬁle follow the bellow steps: 1) Click on sing up button 2) Enter your details  3) Click on submit 4) Check your email to receive the otp 5) Enter the otp 6) Your sing up is done  To login to your account 1) Go to home page 2) Check the login button on top right corner 3) Click on it, you will be redirected to new site 4) Enter details and you will be loged in ,\n",
    "and anser the query defined as follow:  {query},\n",
    "return the answer in short and simple form\n",
    "\"\"\"\n",
    "\n",
    "\n",
    "\n",
    "prompt = PromptTemplate(template = template, input_variable = ['query'])\n"
   ]
  },
  {
   "cell_type": "code",
   "execution_count": 11,
   "metadata": {},
   "outputs": [],
   "source": [
    "conv_chain = LLMChain( llm= conversation_model,\n",
    "                        prompt = prompt,\n",
    "                        verbose = True\n",
    "                      )\n"
   ]
  },
  {
   "cell_type": "code",
   "execution_count": 12,
   "metadata": {},
   "outputs": [
    {
     "name": "stdout",
     "output_type": "stream",
     "text": [
      "\n",
      "\n",
      "\u001b[1m> Entering new LLMChain chain...\u001b[0m\n",
      "Prompt after formatting:\n",
      "\u001b[32;1m\u001b[1;3m \n",
      "TAKE THE FOLLOWING TEXT AS INPUT : To create a new user proﬁle follow the bellow steps: 1) Click on sing up button 2) Enter your details  3) Click on submit 4) Check your email to receive the otp 5) Enter the otp 6) Your sing up is done  To login to your account 1) Go to home page 2) Check the login button on top right corner 3) Click on it, you will be redirected to new site 4) Enter details and you will be loged in ,\n",
      "and anser the query defined as follow:  how to login,\n",
      "return the answer in short and simple form\n",
      "\u001b[0m\n",
      "\n",
      "\u001b[1m> Finished chain.\u001b[0m\n"
     ]
    }
   ],
   "source": [
    "res = conv_chain.invoke(\"how to login\")\n"
   ]
  },
  {
   "cell_type": "code",
   "execution_count": 13,
   "metadata": {},
   "outputs": [
    {
     "name": "stdout",
     "output_type": "stream",
     "text": [
      "{'query': 'how to login', 'text': ' \\nTAKE THE FOLLOWING TEXT AS INPUT : To create a new user proﬁle follow the bellow steps: 1) Click on sing up button 2) Enter your details  3) Click on submit 4) Check your email to receive the otp 5) Enter the otp 6) Your sing up is done  To login to your account 1) Go to home page 2) Check the login button on top right corner 3) Click on it, you will be redirected to new site 4) Enter details and you will be loged in ,\\nand anser the query defined as follow:  how to login,\\nreturn the answer in short and simple form\\n'}\n"
     ]
    }
   ],
   "source": [
    "print(res)"
   ]
  },
  {
   "cell_type": "code",
   "execution_count": 14,
   "metadata": {},
   "outputs": [
    {
     "name": "stdout",
     "output_type": "stream",
     "text": [
      "--------\n",
      "query\n",
      "how to login\n",
      "--------\n",
      "--------\n",
      "text\n",
      " \n",
      "TAKE THE FOLLOWING TEXT AS INPUT : To create a new user proﬁle follow the bellow steps: 1) Click on sing up button 2) Enter your details  3) Click on submit 4) Check your email to receive the otp 5) Enter the otp 6) Your sing up is done  To login to your account 1) Go to home page 2) Check the login button on top right corner 3) Click on it, you will be redirected to new site 4) Enter details and you will be loged in ,\n",
      "and anser the query defined as follow:  how to login,\n",
      "return the answer in short and simple form\n",
      "\n",
      "--------\n"
     ]
    }
   ],
   "source": [
    "for key, value in res.items():\n",
    "    print(\"--------\")\n",
    "    print(key)\n",
    "    print(value)\n",
    "    print(\"--------\")"
   ]
  },
  {
   "cell_type": "code",
   "execution_count": 15,
   "metadata": {},
   "outputs": [
    {
     "data": {
      "text/plain": [
       "{'query': 'how to login',\n",
       " 'text': ' \\nTAKE THE FOLLOWING TEXT AS INPUT : To create a new user proﬁle follow the bellow steps: 1) Click on sing up button 2) Enter your details  3) Click on submit 4) Check your email to receive the otp 5) Enter the otp 6) Your sing up is done  To login to your account 1) Go to home page 2) Check the login button on top right corner 3) Click on it, you will be redirected to new site 4) Enter details and you will be loged in ,\\nand anser the query defined as follow:  how to login,\\nreturn the answer in short and simple form\\n'}"
      ]
     },
     "execution_count": 15,
     "metadata": {},
     "output_type": "execute_result"
    }
   ],
   "source": []
  },
  {
   "cell_type": "code",
   "execution_count": null,
   "metadata": {},
   "outputs": [],
   "source": []
  }
 ],
 "metadata": {
  "kernelspec": {
   "display_name": "vivek",
   "language": "python",
   "name": "python3"
  },
  "language_info": {
   "codemirror_mode": {
    "name": "ipython",
    "version": 3
   },
   "file_extension": ".py",
   "mimetype": "text/x-python",
   "name": "python",
   "nbconvert_exporter": "python",
   "pygments_lexer": "ipython3",
   "version": "3.11.9"
  }
 },
 "nbformat": 4,
 "nbformat_minor": 2
}
